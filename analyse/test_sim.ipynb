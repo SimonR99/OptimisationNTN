{
 "cells": [
  {
   "cell_type": "code",
   "execution_count": 10,
   "metadata": {},
   "outputs": [
    {
     "name": "stdout",
     "output_type": "stream",
     "text": [
      "1133.3976311574843\n"
     ]
    }
   ],
   "source": [
    "from optimisation_ntn.simulation import Simulation, SimulationConfig\n",
    "from optimisation_ntn.algorithms.assignment.matrix_based import MatrixBasedAssignment\n",
    "import numpy as np\n",
    "\n",
    "sim = Simulation(\n",
    "    config=SimulationConfig(\n",
    "        seed=1,\n",
    "        user_count=10,\n",
    "        power_strategy=\"OnDemand\",\n",
    "        save_results=False,\n",
    "    )\n",
    ")\n",
    "assignment_vector = np.array([0, 1, 2, 3, 4, 5, 6, 7, 8, 9])\n",
    "matrix_strategy = MatrixBasedAssignment(sim.network)\n",
    "matrix_strategy.set_assignment_matrix(assignment_vector)\n",
    "sim.assignment_strategy = matrix_strategy\n",
    "\n",
    "while sim.current_time < sim.max_time:\n",
    "    sim.step()\n",
    "\n",
    "energy_consumed = sim.system_energy_consumed\n",
    "print(energy_consumed)"
   ]
  },
  {
   "cell_type": "code",
   "execution_count": null,
   "metadata": {},
   "outputs": [],
   "source": []
  },
  {
   "cell_type": "code",
   "execution_count": 11,
   "metadata": {},
   "outputs": [
    {
     "data": {
      "text/plain": [
       "(1133.3976311574843, 0.5)"
      ]
     },
     "execution_count": 11,
     "metadata": {},
     "output_type": "execute_result"
    }
   ],
   "source": [
    "sim.reset()\n",
    "sim.run_with_assignment(np.array([0, 1, 2, 3, 4, 5, 6, 7, 8, 9]))"
   ]
  },
  {
   "cell_type": "code",
   "execution_count": 12,
   "metadata": {},
   "outputs": [],
   "source": [
    "from optimisation_ntn.algorithms.assignment.strategy_factory import (\n",
    "    QLearningAssignment,\n",
    "    RandomAssignment,\n",
    "    TimeGreedyAssignment,\n",
    "    ClosestNodeAssignment,\n",
    "    HAPSOnlyAssignment,\n",
    ")"
   ]
  },
  {
   "cell_type": "code",
   "execution_count": 13,
   "metadata": {},
   "outputs": [
    {
     "name": "stdout",
     "output_type": "stream",
     "text": [
      "1851.9985786944908\n",
      "100.0\n",
      "Q-table contains 21 states\n",
      "\n",
      "Best learned action:\n",
      "State interpretation:\n",
      "\n",
      "Node Energy Levels:\n",
      "Node 0: Low\n",
      "Node 1: Depleted\n",
      "Node 2: Infinite\n",
      "Node 3: Depleted\n",
      "Node 4: Infinite\n",
      "Node 5: High\n",
      "\n",
      "Node States:\n",
      "Node 0: Off\n",
      "Node 1: Off\n",
      "Node 2: Off\n",
      "Node 3: Off\n",
      "Node 4: Off\n",
      "Node 5: Off\n",
      "\n",
      "Request Size: ≤6MB\n",
      "\n",
      "Best action: Node 4\n",
      "Q-value: 1.0000\n",
      "\n",
      "Analyzing first state:\n",
      "State interpretation:\n",
      "\n",
      "Node Energy Levels:\n",
      "Node 0: High\n",
      "Node 1: Infinite\n",
      "Node 2: Infinite\n",
      "Node 3: Infinite\n",
      "Node 4: Infinite\n",
      "Node 5: High\n",
      "\n",
      "Node States:\n",
      "Node 0: Off\n",
      "Node 1: Off\n",
      "Node 2: Off\n",
      "Node 3: Off\n",
      "Node 4: Off\n",
      "Node 5: Off\n",
      "\n",
      "Request Size: ≤10MB\n"
     ]
    }
   ],
   "source": [
    "sim.reset()\n",
    "sim.assignment_strategy = QLearningAssignment(sim.network)\n",
    "sim.run()\n",
    "\n",
    "energy_consumed = sim.system_energy_consumed\n",
    "qos_score = sim.evaluate_qos_satisfaction()\n",
    "print(energy_consumed)\n",
    "print(qos_score)\n",
    "\n",
    "# Load and analyze Q-table\n",
    "q_learning = QLearningAssignment(sim.network)\n",
    "q_learning.load_q_table(\"../qtable.npy\")\n",
    "\n",
    "# Print summary\n",
    "q_learning.print_q_table_summary()\n",
    "\n",
    "# Interpret specific state\n",
    "state = list(q_learning.q_table.keys())[0]  # Get first state\n",
    "print(\"\\nAnalyzing first state:\")\n",
    "print(q_learning.interpret_state(state))"
   ]
  },
  {
   "cell_type": "code",
   "execution_count": 15,
   "metadata": {},
   "outputs": [
    {
     "name": "stdout",
     "output_type": "stream",
     "text": [
      "----------\n",
      "QLearningAssignment\n",
      "1851.9985786944908\n",
      "100.0\n",
      "----------\n",
      "RandomAssignment\n",
      "2055.7966836204782\n",
      "100.0\n",
      "----------\n",
      "TimeGreedyAssignment\n",
      "2673.896683620478\n",
      "90.0\n",
      "----------\n",
      "ClosestNodeAssignment\n",
      "1761.8000000000002\n",
      "100.0\n",
      "----------\n",
      "HAPSOnlyAssignment\n",
      "1885.0\n",
      "100.0\n"
     ]
    }
   ],
   "source": [
    "strategies = [\n",
    "    QLearningAssignment,\n",
    "    RandomAssignment,\n",
    "    TimeGreedyAssignment,\n",
    "    ClosestNodeAssignment,\n",
    "    HAPSOnlyAssignment,\n",
    "]\n",
    "\n",
    "sim = Simulation(\n",
    "    config=SimulationConfig(\n",
    "        seed=1,\n",
    "        user_count=10,\n",
    "        power_strategy=\"OnDemand\",\n",
    "        save_results=False,\n",
    "    )\n",
    ")\n",
    "\n",
    "for strategy in strategies:\n",
    "    sim.reset()\n",
    "    strategy_instance = strategy(sim.network)\n",
    "    sim.assignment_strategy = strategy_instance\n",
    "    sim.run()\n",
    "    energy_consumed = sim.system_energy_consumed\n",
    "    qos_score = sim.evaluate_qos_satisfaction()\n",
    "    print(\"-\" * 10)\n",
    "    print(strategy.__name__)\n",
    "    print(energy_consumed)\n",
    "    print(qos_score)"
   ]
  },
  {
   "cell_type": "code",
   "execution_count": 16,
   "metadata": {},
   "outputs": [
    {
     "name": "stdout",
     "output_type": "stream",
     "text": [
      "36\n",
      "New best matrix found! Energy: 440.0, QoS: 100.0\n",
      "Processed 0.00%\n",
      "New best matrix found! Energy: 424.09952623149684, QoS: 100.0\n",
      "New best matrix found! Energy: 423.8999999999999, QoS: 100.0\n",
      "New best matrix found! Energy: 416.19999999999993, QoS: 100.0\n",
      "New best matrix found! Energy: 400.2995262314967, QoS: 100.0\n",
      "New best matrix found! Energy: 400.09999999999985, QoS: 100.0\n",
      "(1, 4)\n",
      "400.09999999999985\n"
     ]
    }
   ],
   "source": [
    "# do a brute force search for the best assignment matrix\n",
    "\n",
    "import itertools\n",
    "from optimisation_ntn.algorithms.assignment.strategy_factory import (\n",
    "    AssignmentStrategyFactory,\n",
    ")\n",
    "from optimisation_ntn.simulation import Simulation, SimulationConfig\n",
    "import numpy as np\n",
    "\n",
    "sim = Simulation(\n",
    "    config=SimulationConfig(\n",
    "        seed=1,\n",
    "        user_count=2,\n",
    "        power_strategy=\"OnDemand\",\n",
    "        save_results=False,\n",
    "    )\n",
    ")\n",
    "\n",
    "\n",
    "n_nodes = len(sim.network.compute_nodes)\n",
    "n_users = len(sim.network.user_nodes)\n",
    "\n",
    "all_matrices = list(itertools.product(range(n_nodes), repeat=n_users))\n",
    "print(len(all_matrices))\n",
    "\n",
    "min_energy = float(\"inf\")\n",
    "best_matrix = None\n",
    "# run all the combinations of assignment matrices (n_nodes^n_users)\n",
    "for i in range(len(all_matrices)):\n",
    "    assignment_matrix = all_matrices[i]\n",
    "    sim.reset()\n",
    "    sim.run_with_assignment(assignment_matrix)\n",
    "    energy_consumed = sim.system_energy_consumed\n",
    "    qos_score = sim.evaluate_qos_satisfaction()\n",
    "    # print(energy_consumed)\n",
    "    # print(qos_score)\n",
    "    if qos_score == 100:\n",
    "        if energy_consumed < min_energy:\n",
    "            print(f\"New best matrix found! Energy: {energy_consumed}, QoS: {qos_score}\")\n",
    "            min_energy = energy_consumed\n",
    "            best_matrix = assignment_matrix\n",
    "\n",
    "    if i % 100 == 0:\n",
    "        print(f\"Processed {i/len(all_matrices)*100:.2f}%\")\n",
    "\n",
    "print(best_matrix)\n",
    "print(min_energy)"
   ]
  }
 ],
 "metadata": {
  "kernelspec": {
   "display_name": "venv",
   "language": "python",
   "name": "python3"
  },
  "language_info": {
   "codemirror_mode": {
    "name": "ipython",
    "version": 3
   },
   "file_extension": ".py",
   "mimetype": "text/x-python",
   "name": "python",
   "nbconvert_exporter": "python",
   "pygments_lexer": "ipython3",
   "version": "3.11.5"
  }
 },
 "nbformat": 4,
 "nbformat_minor": 2
}
