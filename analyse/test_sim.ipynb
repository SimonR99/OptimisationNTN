{
 "cells": [
  {
   "cell_type": "code",
   "execution_count": 9,
   "metadata": {},
   "outputs": [
    {
     "name": "stdout",
     "output_type": "stream",
     "text": [
      "1133.3976311574843\n"
     ]
    }
   ],
   "source": [
    "from optimisation_ntn.simulation import Simulation, SimulationConfig\n",
    "from optimisation_ntn.algorithms.assignment.matrix_based import MatrixBasedAssignment\n",
    "import numpy as np\n",
    "\n",
    "sim = Simulation(\n",
    "    config=SimulationConfig(\n",
    "        seed=1,\n",
    "        user_count=10,\n",
    "        save_results=False,\n",
    "    )\n",
    ")\n",
    "assignment_vector = np.array([0, 1, 2, 3, 4, 5, 6, 7, 8, 9])\n",
    "matrix_strategy = MatrixBasedAssignment(sim.network)\n",
    "matrix_strategy.set_assignment_matrix(assignment_vector)\n",
    "sim.assignment_strategy = matrix_strategy\n",
    "\n",
    "while sim.current_time < sim.max_time:\n",
    "    sim.step()\n",
    "\n",
    "energy_consumed = sim.system_energy_consumed\n",
    "print(energy_consumed)"
   ]
  },
  {
   "cell_type": "code",
   "execution_count": null,
   "metadata": {},
   "outputs": [],
   "source": []
  },
  {
   "cell_type": "code",
   "execution_count": 10,
   "metadata": {},
   "outputs": [
    {
     "data": {
      "text/plain": [
       "(1133.3976311574843, 0.5)"
      ]
     },
     "execution_count": 10,
     "metadata": {},
     "output_type": "execute_result"
    }
   ],
   "source": [
    "sim.reset()\n",
    "sim.run_with_assignment(np.array([0, 1, 2, 3, 4, 5, 6, 7, 8, 9]))"
   ]
  }
 ],
 "metadata": {
  "kernelspec": {
   "display_name": "venv",
   "language": "python",
   "name": "python3"
  },
  "language_info": {
   "codemirror_mode": {
    "name": "ipython",
    "version": 3
   },
   "file_extension": ".py",
   "mimetype": "text/x-python",
   "name": "python",
   "nbconvert_exporter": "python",
   "pygments_lexer": "ipython3",
   "version": "3.11.5"
  }
 },
 "nbformat": 4,
 "nbformat_minor": 2
}
