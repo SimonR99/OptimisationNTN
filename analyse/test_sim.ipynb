{
 "cells": [
  {
   "cell_type": "code",
   "execution_count": 2,
   "metadata": {},
   "outputs": [
    {
     "name": "stdout",
     "output_type": "stream",
     "text": [
      "All On Strategy\n"
     ]
    }
   ],
   "source": [
    "from optimisation_ntn.simulation import Simulation\n",
    "from optimisation_ntn.algorithms.assignment.\n",
    "\n",
    "sim = Simulation(user_count=100, assignment_strategy=\"TimeGreedy\", save_results=False)\n"
   ]
  },
  {
   "cell_type": "code",
   "execution_count": 3,
   "metadata": {},
   "outputs": [
    {
     "name": "stdout",
     "output_type": "stream",
     "text": [
      "\n",
      "Starting simulation with parameters:\n",
      "Time step: 0.1s\n",
      "Max simulation time: 300s\n",
      "Network Configuration:\n",
      "  Base Stations: 4\n",
      "  HAPS: 1\n",
      "  LEO: 1\n",
      "  Users: 100\n",
      "  Total nodes: 106\n",
      "  Communication links: 209\n",
      "\n",
      "Simulation running...\n",
      "\n",
      "\n",
      "QoS Success Rate: 100.00%\n",
      "\n",
      "Simulation completed:\n",
      "Total requests: 100\n",
      "Execution time: 0.29 seconds\n",
      "Simulation steps: 3001\n",
      "Simulated time: 300.10 seconds\n",
      "Average speed: 10520 steps/second\n",
      "Total energy consumed: 80349.28199679697 joules\n",
      "\n",
      "\n",
      "Request Statistics:\n",
      "CREATED: 0\n",
      "IN_TRANSIT: 0\n",
      "IN_PROCESSING_QUEUE: 0\n",
      "PROCESSING: 0\n",
      "COMPLETED: 100\n",
      "FAILED: 0\n"
     ]
    },
    {
     "data": {
      "text/plain": [
       "80349.28199679697"
      ]
     },
     "execution_count": 3,
     "metadata": {},
     "output_type": "execute_result"
    }
   ],
   "source": [
    "sim.run()"
   ]
  }
 ],
 "metadata": {
  "kernelspec": {
   "display_name": "venv",
   "language": "python",
   "name": "python3"
  },
  "language_info": {
   "codemirror_mode": {
    "name": "ipython",
    "version": 3
   },
   "file_extension": ".py",
   "mimetype": "text/x-python",
   "name": "python",
   "nbconvert_exporter": "python",
   "pygments_lexer": "ipython3",
   "version": "3.11.5"
  }
 },
 "nbformat": 4,
 "nbformat_minor": 2
}
