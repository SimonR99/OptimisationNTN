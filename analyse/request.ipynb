{
 "cells": [
  {
   "cell_type": "code",
   "execution_count": 16,
   "metadata": {},
   "outputs": [],
   "source": [
    "import pandas as pd\n",
    "import matplotlib.pyplot as plt\n",
    "import glob\n",
    "from collections import defaultdict"
   ]
  },
  {
   "cell_type": "code",
   "execution_count": 17,
   "metadata": {},
   "outputs": [],
   "source": [
    "def load_request_data():\n",
    "    \"\"\"\n",
    "    Load request stats data into a structured dictionary.\n",
    "    \"\"\"\n",
    "    dict_df = defaultdict(list)\n",
    "    for file in glob.glob(\"../output/request_stats_*.csv\"):\n",
    "        # Extract strategies and user count from file name\n",
    "        parts = file.split(\"_\")\n",
    "        power_strategy = parts[2].strip()\n",
    "        assignment_strategy = parts[3].strip()\n",
    "        user_count = int(parts[4].replace(\".csv\", \"\").strip())\n",
    "\n",
    "        # Create a normalized combined strategy key\n",
    "        strategy_key = f\"{power_strategy} + {assignment_strategy}\"\n",
    "\n",
    "        # Read the file into a DataFrame\n",
    "        df = pd.read_csv(file)\n",
    "        dict_df[strategy_key].append(\n",
    "            {\"user_count\": user_count, \"file_name\": file, \"data\": df}\n",
    "        )\n",
    "    return dict_df"
   ]
  },
  {
   "cell_type": "code",
   "execution_count": 18,
   "metadata": {},
   "outputs": [],
   "source": [
    "def plot_request_time_distribution(\n",
    "    dict_df, power_strategy, assignment_strategy, user_count, bins=10\n",
    "):\n",
    "    \"\"\"\n",
    "    Plot the request time distribution for a specific run.\n",
    "\n",
    "    Parameters:\n",
    "        dict_df (dict): Dictionary containing request stats data.\n",
    "        power_strategy (str): The power strategy to filter.\n",
    "        assignment_strategy (str): The assignment strategy to filter.\n",
    "        user_count (int): The user count to filter.\n",
    "        bins (int): Number of bins for the histogram.\n",
    "    \"\"\"\n",
    "    # Normalize the strategy key\n",
    "    strategy_key = f\"{power_strategy} + {assignment_strategy}\"\n",
    "    print(f\"Looking for strategy key: '{strategy_key}' with {user_count} users.\")\n",
    "\n",
    "    # Find the selected run\n",
    "    runs = dict_df.get(strategy_key, [])\n",
    "    selected_run = next((run for run in runs if run[\"user_count\"] == user_count), None)\n",
    "\n",
    "    if not selected_run:\n",
    "        print(f\"\\nNo run found for strategy '{strategy_key}' with {user_count} users.\")\n",
    "        return\n",
    "\n",
    "    df = selected_run[\"data\"]\n",
    "    print(f\"\\nSelected file: {selected_run['file_name']}\")\n",
    "\n",
    "    # Calculate time taken per request\n",
    "    request_tick_time = df[\"last_status_change\"] - df[\"creation_time\"]\n",
    "    request_time = (\n",
    "        request_tick_time * 0.1\n",
    "    )  # Convert ticks to time (assuming 0.1 is the time multiplier)\n",
    "\n",
    "    # Plot request time distribution\n",
    "    plt.figure(figsize=(10, 5))\n",
    "    plt.hist(request_time, bins=bins, edgecolor=\"k\", alpha=0.7)\n",
    "    plt.title(\"Request Time Distribution\")\n",
    "    plt.xlabel(\"Request Time (s)\")\n",
    "    plt.ylabel(\"Frequency\")\n",
    "    plt.grid(True)\n",
    "    plt.show()"
   ]
  },
  {
   "cell_type": "code",
   "execution_count": 19,
   "metadata": {},
   "outputs": [
    {
     "data": {
      "text/plain": [
       "6"
      ]
     },
     "execution_count": 19,
     "metadata": {},
     "output_type": "execute_result"
    }
   ],
   "source": [
    "# Load the request data\n",
    "dict_df = load_request_data()\n",
    "len(dict_df)"
   ]
  },
  {
   "cell_type": "code",
   "execution_count": 20,
   "metadata": {},
   "outputs": [
    {
     "name": "stdout",
     "output_type": "stream",
     "text": [
      "Looking for strategy key: 'OnDemand + PSO' with 100 users.\n",
      "\n",
      "Selected file: ../output\\request_stats_OnDemand_PSO_100.csv\n"
     ]
    },
    {
     "data": {
      "image/png": "[encoded data removed]",
      "text/plain": [
       "<Figure size 1000x500 with 1 Axes>"
      ]
     },
     "metadata": {},
     "output_type": "display_data"
    }
   ],
   "source": [
    "# Plot the request time distribution for a specific run\n",
    "plot_request_time_distribution(\n",
    "    dict_df,\n",
    "    power_strategy=\"OnDemand\",\n",
    "    assignment_strategy=\"PSO\",\n",
    "    user_count=100,\n",
    "    bins=10,\n",
    ")"
   ]
  }
 ],
 "metadata": {
  "kernelspec": {
   "display_name": "venv",
   "language": "python",
   "name": "python3"
  },
  "language_info": {
   "codemirror_mode": {
    "name": "ipython",
    "version": 3
   },
   "file_extension": ".py",
   "mimetype": "text/x-python",
   "name": "python",
   "nbconvert_exporter": "python",
   "pygments_lexer": "ipython3",
   "version": "3.11.5"
  }
 },
 "nbformat": 4,
 "nbformat_minor": 2
}
