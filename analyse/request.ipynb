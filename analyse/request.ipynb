{
 "cells": [
  {
   "cell_type": "code",
   "execution_count": 45,
   "metadata": {},
   "outputs": [],
   "source": [
    "import pandas as pd\n",
    "import matplotlib.pyplot as plt\n",
    "\n",
    "request_stats = pd.read_csv(\"../output/request_stats.csv\")"
   ]
  },
  {
   "cell_type": "code",
   "execution_count": 46,
   "metadata": {},
   "outputs": [
    {
     "data": {
      "text/html": [
       "<div>\n",
       "<style scoped>\n",
       "    .dataframe tbody tr th:only-of-type {\n",
       "        vertical-align: middle;\n",
       "    }\n",
       "\n",
       "    .dataframe tbody tr th {\n",
       "        vertical-align: top;\n",
       "    }\n",
       "\n",
       "    .dataframe thead th {\n",
       "        text-align: right;\n",
       "    }\n",
       "</style>\n",
       "<table border=\"1\" class=\"dataframe\">\n",
       "  <thead>\n",
       "    <tr style=\"text-align: right;\">\n",
       "      <th></th>\n",
       "      <th>debug</th>\n",
       "      <th>id</th>\n",
       "      <th>tick</th>\n",
       "      <th>current_node</th>\n",
       "      <th>next_node</th>\n",
       "      <th>target_node</th>\n",
       "      <th>status</th>\n",
       "      <th>processing_progress</th>\n",
       "      <th>qos_limit</th>\n",
       "      <th>size</th>\n",
       "      <th>priority</th>\n",
       "      <th>creation_time</th>\n",
       "      <th>last_status_change</th>\n",
       "      <th>status_history</th>\n",
       "      <th>path</th>\n",
       "      <th>path_index</th>\n",
       "      <th>get_tick</th>\n",
       "      <th>tick_time</th>\n",
       "    </tr>\n",
       "  </thead>\n",
       "  <tbody>\n",
       "    <tr>\n",
       "      <th>0</th>\n",
       "      <td>False</td>\n",
       "      <td>0</td>\n",
       "      <td>33</td>\n",
       "      <td>LEO 0</td>\n",
       "      <td>LEO 0</td>\n",
       "      <td>LEO 0</td>\n",
       "      <td>RequestStatus.COMPLETED</td>\n",
       "      <td>5000000.0</td>\n",
       "      <td>0.5</td>\n",
       "      <td>5000000.0</td>\n",
       "      <td>Priority.MEDIUM</td>\n",
       "      <td>33</td>\n",
       "      <td>35</td>\n",
       "      <td>[(&lt;RequestStatus.CREATED: 0&gt;, 33.0), (&lt;Request...</td>\n",
       "      <td>[&lt;optimisation_ntn.nodes.user_device.UserDevic...</td>\n",
       "      <td>3</td>\n",
       "      <td>&lt;bound method Simulation.get_current_tick of &lt;...</td>\n",
       "      <td>0.1</td>\n",
       "    </tr>\n",
       "    <tr>\n",
       "      <th>1</th>\n",
       "      <td>False</td>\n",
       "      <td>1</td>\n",
       "      <td>58</td>\n",
       "      <td>LEO 0</td>\n",
       "      <td>LEO 0</td>\n",
       "      <td>LEO 0</td>\n",
       "      <td>RequestStatus.COMPLETED</td>\n",
       "      <td>10000000.0</td>\n",
       "      <td>1.0</td>\n",
       "      <td>9000000.0</td>\n",
       "      <td>Priority.LOW</td>\n",
       "      <td>58</td>\n",
       "      <td>61</td>\n",
       "      <td>[(&lt;RequestStatus.CREATED: 0&gt;, 58.0), (&lt;Request...</td>\n",
       "      <td>[&lt;optimisation_ntn.nodes.user_device.UserDevic...</td>\n",
       "      <td>3</td>\n",
       "      <td>&lt;bound method Simulation.get_current_tick of &lt;...</td>\n",
       "      <td>0.1</td>\n",
       "    </tr>\n",
       "    <tr>\n",
       "      <th>2</th>\n",
       "      <td>False</td>\n",
       "      <td>2</td>\n",
       "      <td>123</td>\n",
       "      <td>LEO 0</td>\n",
       "      <td>LEO 0</td>\n",
       "      <td>LEO 0</td>\n",
       "      <td>RequestStatus.COMPLETED</td>\n",
       "      <td>5000000.0</td>\n",
       "      <td>0.2</td>\n",
       "      <td>3000000.0</td>\n",
       "      <td>Priority.HIGH</td>\n",
       "      <td>123</td>\n",
       "      <td>125</td>\n",
       "      <td>[(&lt;RequestStatus.CREATED: 0&gt;, 123.0), (&lt;Reques...</td>\n",
       "      <td>[&lt;optimisation_ntn.nodes.user_device.UserDevic...</td>\n",
       "      <td>3</td>\n",
       "      <td>&lt;bound method Simulation.get_current_tick of &lt;...</td>\n",
       "      <td>0.1</td>\n",
       "    </tr>\n",
       "    <tr>\n",
       "      <th>3</th>\n",
       "      <td>False</td>\n",
       "      <td>3</td>\n",
       "      <td>126</td>\n",
       "      <td>LEO 0</td>\n",
       "      <td>LEO 0</td>\n",
       "      <td>LEO 0</td>\n",
       "      <td>RequestStatus.COMPLETED</td>\n",
       "      <td>5000000.0</td>\n",
       "      <td>0.2</td>\n",
       "      <td>1000000.0</td>\n",
       "      <td>Priority.HIGH</td>\n",
       "      <td>126</td>\n",
       "      <td>128</td>\n",
       "      <td>[(&lt;RequestStatus.CREATED: 0&gt;, 126.0), (&lt;Reques...</td>\n",
       "      <td>[&lt;optimisation_ntn.nodes.user_device.UserDevic...</td>\n",
       "      <td>3</td>\n",
       "      <td>&lt;bound method Simulation.get_current_tick of &lt;...</td>\n",
       "      <td>0.1</td>\n",
       "    </tr>\n",
       "    <tr>\n",
       "      <th>4</th>\n",
       "      <td>False</td>\n",
       "      <td>4</td>\n",
       "      <td>193</td>\n",
       "      <td>LEO 0</td>\n",
       "      <td>LEO 0</td>\n",
       "      <td>LEO 0</td>\n",
       "      <td>RequestStatus.COMPLETED</td>\n",
       "      <td>5000000.0</td>\n",
       "      <td>0.2</td>\n",
       "      <td>3000000.0</td>\n",
       "      <td>Priority.HIGH</td>\n",
       "      <td>193</td>\n",
       "      <td>195</td>\n",
       "      <td>[(&lt;RequestStatus.CREATED: 0&gt;, 193.0), (&lt;Reques...</td>\n",
       "      <td>[&lt;optimisation_ntn.nodes.user_device.UserDevic...</td>\n",
       "      <td>3</td>\n",
       "      <td>&lt;bound method Simulation.get_current_tick of &lt;...</td>\n",
       "      <td>0.1</td>\n",
       "    </tr>\n",
       "  </tbody>\n",
       "</table>\n",
       "</div>"
      ],
      "text/plain": [
       "   debug  id  tick current_node next_node target_node  \\\n",
       "0  False   0    33        LEO 0     LEO 0       LEO 0   \n",
       "1  False   1    58        LEO 0     LEO 0       LEO 0   \n",
       "2  False   2   123        LEO 0     LEO 0       LEO 0   \n",
       "3  False   3   126        LEO 0     LEO 0       LEO 0   \n",
       "4  False   4   193        LEO 0     LEO 0       LEO 0   \n",
       "\n",
       "                    status  processing_progress  qos_limit       size  \\\n",
       "0  RequestStatus.COMPLETED            5000000.0        0.5  5000000.0   \n",
       "1  RequestStatus.COMPLETED           10000000.0        1.0  9000000.0   \n",
       "2  RequestStatus.COMPLETED            5000000.0        0.2  3000000.0   \n",
       "3  RequestStatus.COMPLETED            5000000.0        0.2  1000000.0   \n",
       "4  RequestStatus.COMPLETED            5000000.0        0.2  3000000.0   \n",
       "\n",
       "          priority  creation_time  last_status_change  \\\n",
       "0  Priority.MEDIUM             33                  35   \n",
       "1     Priority.LOW             58                  61   \n",
       "2    Priority.HIGH            123                 125   \n",
       "3    Priority.HIGH            126                 128   \n",
       "4    Priority.HIGH            193                 195   \n",
       "\n",
       "                                      status_history  \\\n",
       "0  [(<RequestStatus.CREATED: 0>, 33.0), (<Request...   \n",
       "1  [(<RequestStatus.CREATED: 0>, 58.0), (<Request...   \n",
       "2  [(<RequestStatus.CREATED: 0>, 123.0), (<Reques...   \n",
       "3  [(<RequestStatus.CREATED: 0>, 126.0), (<Reques...   \n",
       "4  [(<RequestStatus.CREATED: 0>, 193.0), (<Reques...   \n",
       "\n",
       "                                                path  path_index  \\\n",
       "0  [<optimisation_ntn.nodes.user_device.UserDevic...           3   \n",
       "1  [<optimisation_ntn.nodes.user_device.UserDevic...           3   \n",
       "2  [<optimisation_ntn.nodes.user_device.UserDevic...           3   \n",
       "3  [<optimisation_ntn.nodes.user_device.UserDevic...           3   \n",
       "4  [<optimisation_ntn.nodes.user_device.UserDevic...           3   \n",
       "\n",
       "                                            get_tick  tick_time  \n",
       "0  <bound method Simulation.get_current_tick of <...        0.1  \n",
       "1  <bound method Simulation.get_current_tick of <...        0.1  \n",
       "2  <bound method Simulation.get_current_tick of <...        0.1  \n",
       "3  <bound method Simulation.get_current_tick of <...        0.1  \n",
       "4  <bound method Simulation.get_current_tick of <...        0.1  "
      ]
     },
     "execution_count": 46,
     "metadata": {},
     "output_type": "execute_result"
    }
   ],
   "source": [
    "request_stats.head()"
   ]
  },
  {
   "cell_type": "code",
   "execution_count": 47,
   "metadata": {},
   "outputs": [
    {
     "data": {
      "image/png": "[encoded data removed]",
      "text/plain": [
       "<Figure size 640x480 with 1 Axes>"
      ]
     },
     "metadata": {},
     "output_type": "display_data"
    }
   ],
   "source": [
    "request_tick_time = request_stats[\"last_status_change\"] - request_stats[\"creation_time\"]\n",
    "request_time = request_tick_time * 0.1\n",
    "\n",
    "# plot the request time distribution\n",
    "plt.hist(request_time, bins=10)\n",
    "plt.show()"
   ]
  },
  {
   "cell_type": "code",
   "execution_count": 48,
   "metadata": {},
   "outputs": [
    {
     "data": {
      "image/png": "[encoded data removed]",
      "text/plain": [
       "<Figure size 640x480 with 1 Axes>"
      ]
     },
     "metadata": {},
     "output_type": "display_data"
    }
   ],
   "source": [
    "# plot the request size distribution\n",
    "plt.hist(request_stats[\"size\"], bins=10)\n",
    "plt.show()"
   ]
  },
  {
   "cell_type": "code",
   "execution_count": 49,
   "metadata": {},
   "outputs": [
    {
     "data": {
      "image/png": "[encoded data removed]",
      "text/plain": [
       "<Figure size 640x480 with 1 Axes>"
      ]
     },
     "metadata": {},
     "output_type": "display_data"
    }
   ],
   "source": [
    "# plot the request priority distribution\n",
    "plt.hist(request_stats[\"priority\"], bins=3)\n",
    "plt.show()"
   ]
  },
  {
   "cell_type": "code",
   "execution_count": 50,
   "metadata": {},
   "outputs": [],
   "source": [
    "# plot the tim"
   ]
  }
 ],
 "metadata": {
  "kernelspec": {
   "display_name": "venv",
   "language": "python",
   "name": "python3"
  },
  "language_info": {
   "codemirror_mode": {
    "name": "ipython",
    "version": 3
   },
   "file_extension": ".py",
   "mimetype": "text/x-python",
   "name": "python",
   "nbconvert_exporter": "python",
   "pygments_lexer": "ipython3",
   "version": "3.11.5"
  }
 },
 "nbformat": 4,
 "nbformat_minor": 2
}
